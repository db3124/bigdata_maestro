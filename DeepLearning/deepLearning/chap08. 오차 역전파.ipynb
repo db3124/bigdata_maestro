{
 "cells": [
  {
   "cell_type": "markdown",
   "metadata": {},
   "source": [
    "# 심화 학습2 파이썬 코드로 확인하는 신경망"
   ]
  },
  {
   "cell_type": "markdown",
   "metadata": {},
   "source": [
    "## 1. 환경 변수 설정하기"
   ]
  },
  {
   "cell_type": "code",
   "execution_count": 2,
   "metadata": {},
   "outputs": [],
   "source": [
    "# 입력값 및 타깃값\n",
    "data = [\n",
    "    [[0, 0], [0]],\n",
    "    [[0, 1], [1]],\n",
    "    [[1, 0], [1]],\n",
    "    [[1, 1], [0]]\n",
    "]\n",
    "\n",
    "# 실행 횟수, 학습률, 모멘텀 계수 설정\n",
    "iterations = 5000\n",
    "lr = 0.1\n",
    "mo = 0.9"
   ]
  },
  {
   "cell_type": "code",
   "execution_count": 3,
   "metadata": {},
   "outputs": [],
   "source": [
    "import numpy as np"
   ]
  },
  {
   "cell_type": "code",
   "execution_count": 6,
   "metadata": {},
   "outputs": [],
   "source": [
    "# 활성화 함수 - 1. 시그모이드\n",
    "# 미분할 때와 아닐 때의 각각의 값\n",
    "def sigmoid(x, derivative = False):\n",
    "    if (derivative == True):\n",
    "        return x * (1 - x)\n",
    "    return 1 / (1 + np.exp(-x))\n",
    "\n",
    "# 활성화 함수 - 2. tahn(하이퍼볼릭 탄젠트)\n",
    "# tahn 함수의 미분은 1 - (활성화 함수 출력의 제곱)\n",
    "def tahn(x, derivative = False):\n",
    "    if (derivative == True):\n",
    "        return 1 - x ** 2\n",
    "    return np.tahn(x)\n",
    "\n",
    "# 가중치 배열을 만드는 함수\n",
    "def makeMatrix(i, j, fill = 0.0):\n",
    "    mat = []\n",
    "    for i in range(i):\n",
    "        mat.append([fill] * j)\n",
    "    return mat"
   ]
  },
  {
   "cell_type": "markdown",
   "metadata": {},
   "source": [
    "## 2. 신경망의 실행"
   ]
  },
  {
   "cell_type": "code",
   "execution_count": 7,
   "metadata": {},
   "outputs": [],
   "source": [
    "# 신경망의 실행 클래스\n",
    "# -> 초깃값의 지정, 업데이트 함수, 역전파 함수"
   ]
  },
  {
   "cell_type": "code",
   "execution_count": 9,
   "metadata": {},
   "outputs": [],
   "source": [
    "# 신경망의 실행\n",
    "class NeuralNetwork:\n",
    "    \n",
    "    # 초깃값 지정\n",
    "    def __init__(self, num_x,  num_yh, num_yo, bias = 1):\n",
    "    \n",
    "        # 입력 값(num_x), 은닉층의 초깃값(num_yh), 출력층의 초깃값(num_yo), 바이어스\n",
    "        self.num_x = num_x + bias # 바이어스는 1로 설정\n",
    "        self.num_yh = num_yh\n",
    "        self.num_yo = num_yo\n",
    "        \n",
    "        # 활성화 함수 초깃값\n",
    "        self.activation_input = [1.0] * self.num_x\n",
    "        self.activation_hidden = [1.0] * self.num_yh\n",
    "        self.activation_out = [1.0] * self.num_yo\n",
    "        \n",
    "        # 가중치 입력 초깃값\n",
    "        self.weight_in = makeMatrix(self.num_x, self.num_yh)\n",
    "        \n",
    "        for i in range(self.num_x):\n",
    "            for j in range(self.num_yh):\n",
    "                self.weight_in[i][j] = random.random()\n",
    "        \n",
    "        # 가중치 출력 초깃값\n",
    "        self.weight_out = makeMatrix(self.num_yh, self.num_yo)\n",
    "        for j in range(self.num_yh):\n",
    "            for k in range(self.num_yo):\n",
    "                self.weight_out[j][k] = random.random()\n",
    "                \n",
    "        # 모멘텀 SGD를 위한 이전 가중치 초깃값\n",
    "        self.gradient_in = makeMatrix(self.num_x, self.num_yh)\n",
    "        self.gradient_out = makeMatrix(self.num_yh, self.num_yo)            "
   ]
  },
  {
   "cell_type": "code",
   "execution_count": null,
   "metadata": {},
   "outputs": [],
   "source": []
  },
  {
   "cell_type": "code",
   "execution_count": null,
   "metadata": {},
   "outputs": [],
   "source": []
  }
 ],
 "metadata": {
  "kernelspec": {
   "display_name": "Python 3",
   "language": "python",
   "name": "python3"
  },
  "language_info": {
   "codemirror_mode": {
    "name": "ipython",
    "version": 3
   },
   "file_extension": ".py",
   "mimetype": "text/x-python",
   "name": "python",
   "nbconvert_exporter": "python",
   "pygments_lexer": "ipython3",
   "version": "3.7.6"
  }
 },
 "nbformat": 4,
 "nbformat_minor": 4
}
