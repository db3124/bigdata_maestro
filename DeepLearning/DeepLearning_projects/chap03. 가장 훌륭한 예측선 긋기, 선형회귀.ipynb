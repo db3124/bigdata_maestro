{
 "cells": [
  {
   "cell_type": "markdown",
   "metadata": {},
   "source": [
    "# 3. 최소 제곱법"
   ]
  },
  {
   "cell_type": "code",
   "execution_count": 1,
   "metadata": {},
   "outputs": [],
   "source": [
    "import numpy as np\n",
    "import matplotlib.pyplot as plt\n",
    "import matplotlib\n",
    "\n",
    "# 그래프에 한글 적용\n",
    "matplotlib.rcParams['font.family'] = 'Malgun Gothic'\n",
    "matplotlib.rcParams['axes.unicode_minus'] = False"
   ]
  },
  {
   "cell_type": "code",
   "execution_count": 3,
   "metadata": {},
   "outputs": [
    {
     "name": "stdout",
     "output_type": "stream",
     "text": [
      "2.3 79.0\n"
     ]
    }
   ],
   "source": [
    "x1 = [2, 4, 6, 8]\n",
    "y1 = [81, 93, 91, 97]\n",
    "\n",
    "mx = np.mean(x1)\n",
    "my = np.mean(y1)\n",
    "\n",
    "divisor = sum([(i-mx)**2 for i in x1])\n",
    "\n",
    "# print(divisor)\n",
    "\n",
    "def top(x1, mx, y1, my):\n",
    "    d = 0\n",
    "    \n",
    "    for i in range(len(x1)):\n",
    "        d += (x1[i]-mx)*(y1[i]-my)\n",
    "        \n",
    "    return d\n",
    "        \n",
    "dividend = top(x1, mx, y1, my)\n",
    "\n",
    "a = dividend / divisor # 기울기, 가중치\n",
    "b = my - (mx * a) # y절편, bias\n",
    "\n",
    "print(a, b)"
   ]
  },
  {
   "cell_type": "code",
   "execution_count": 6,
   "metadata": {
    "scrolled": true
   },
   "outputs": [
    {
     "data": {
      "image/png": "[encoded data removed]",
      "text/plain": [
       "<Figure size 432x288 with 1 Axes>"
      ]
     },
     "metadata": {
      "needs_background": "light"
     },
     "output_type": "display_data"
    }
   ],
   "source": [
    "x2 = np.array([2, 4, 6, 8])\n",
    "y2 = a * x2 + b\n",
    "\n",
    "plt.scatter(x1, y1)\n",
    "plt.plot(x2, y2, color = 'orange')\n",
    "plt.show()"
   ]
  },
  {
   "cell_type": "code",
   "execution_count": 7,
   "metadata": {
    "scrolled": true
   },
   "outputs": [
    {
     "data": {
      "image/png": "[encoded data removed]",
      "text/plain": [
       "<Figure size 432x288 with 1 Axes>"
      ]
     },
     "metadata": {
      "needs_background": "light"
     },
     "output_type": "display_data"
    }
   ],
   "source": [
    "x = np.array([2, 4, 6, 8])\n",
    "\n",
    "y1 = np.array([81, 93, 91, 97])\n",
    "y2 = a * x + b\n",
    "\n",
    "plt.scatter(x, y1)\n",
    "plt.scatter(x, y2)\n",
    "plt.plot(x, y2)\n",
    "plt.yticks([75, 80, 85, 90, 95, 100])\n",
    "plt.axhline(y = 80, color = 'y', linestyle = ':', linewidth = 1)\n",
    "plt.axhline(y = 85, color = 'y', linestyle = ':', linewidth = 1)\n",
    "plt.axhline(y = 90, color = 'y', linestyle = ':', linewidth = 1)\n",
    "plt.axhline(y = 95, color = 'y', linestyle = ':', linewidth = 1)\n",
    "plt.xlabel('공부한 시간')\n",
    "plt.ylabel('성적')\n",
    "plt.show()"
   ]
  },
  {
   "cell_type": "markdown",
   "metadata": {},
   "source": [
    "# 5. 평균 제곱 오차"
   ]
  },
  {
   "cell_type": "code",
   "execution_count": 46,
   "metadata": {},
   "outputs": [],
   "source": [
    "import numpy as np"
   ]
  },
  {
   "cell_type": "code",
   "execution_count": 8,
   "metadata": {},
   "outputs": [
    {
     "name": "stdout",
     "output_type": "stream",
     "text": [
      "공부한 시간=2, 실제 점수=81, 예측 점수=82\n",
      "공부한 시간=4, 실제 점수=93, 예측 점수=88\n",
      "공부한 시간=6, 실제 점수=91, 예측 점수=94\n",
      "공부한 시간=8, 실제 점수=97, 예측 점수=100\n",
      "mse 최종값: 11.0\n"
     ]
    }
   ],
   "source": [
    "# 기울기 a와 y절편 b\n",
    "fake_a_b = [3, 76]\n",
    "\n",
    "# x, y의 데이터 값\n",
    "data = [[2, 81], [4, 93], [6, 91], [8, 97]]\n",
    "x= [i[0] for i in data]\n",
    "y= [i[1] for i in data]\n",
    "\n",
    "# y = ax +b에 a와 b 값을 대입하여 결과를 출력하는 함수\n",
    "def predict(x):\n",
    "    return fake_a_b[0] * x + fake_a_b[1]\n",
    "\n",
    "# MSE 함수\n",
    "def mse(y, y_hat):\n",
    "    return ((y - y_hat) ** 2).mean()\n",
    "    \n",
    "\n",
    "# MSE 함수를 각 y값에 대입하여 최종 값을 구하는 함수\n",
    "def mse_val(y, predict_result):\n",
    "    return mse(np.array(y), np.array(predict_result))\n",
    "\n",
    "# 예측 값이 들어갈 빈 리스트\n",
    "predict_result = []\n",
    "\n",
    "# 모든 x값을 한 번씩 대입하여\n",
    "for i in range(len(x)):\n",
    "    # predict_result 리스트를 완성\n",
    "    predict_result.append(predict(x[i]))\n",
    "    print('공부한 시간=%.f, 실제 점수=%.f, 예측 점수=%.f' % (x[i], y[i], predict(x[i])))\n",
    "    \n",
    "# 최종 MSE 출력\n",
    "print('mse 최종값: ' + str(mse_val(y, predict_result)))"
   ]
  }
 ],
 "metadata": {
  "kernelspec": {
   "display_name": "Python 3",
   "language": "python",
   "name": "python3"
  },
  "language_info": {
   "codemirror_mode": {
    "name": "ipython",
    "version": 3
   },
   "file_extension": ".py",
   "mimetype": "text/x-python",
   "name": "python",
   "nbconvert_exporter": "python",
   "pygments_lexer": "ipython3",
   "version": "3.7.4"
  }
 },
 "nbformat": 4,
 "nbformat_minor": 4
}
