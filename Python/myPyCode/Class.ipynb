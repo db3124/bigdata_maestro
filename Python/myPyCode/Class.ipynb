{
 "cells": [
  {
   "cell_type": "code",
   "execution_count": 12,
   "metadata": {},
   "outputs": [
    {
     "name": "stdout",
     "output_type": "stream",
     "text": [
      "나는 클래스 메서드입니다.\n",
      "원의 반지름은 4이고 파이 값은 3.141592입니다.\n",
      "반지름이 4인 원의 넓이는 50.265472이고 둘레는 25.132736입니다.\n"
     ]
    }
   ],
   "source": [
    "class Circle:\n",
    "    def __init__(self, radius, pi): # 클래스로부터 객체가 만들어지는 시점에 딱 1번 동작하는 특별 메서드\n",
    "        # self는 객체 자신\n",
    "        self.radius = radius # circle 클래스의 radius / 매개변수로 넘어온 값 radius\n",
    "        self.pi = pi\n",
    "             \n",
    "    def get_area(self):\n",
    "        return self.pi * self.radius ** 2\n",
    "    \n",
    "    def get_circumference(self):\n",
    "        return self.pi * self.radius * 2\n",
    "    \n",
    "    @classmethod\n",
    "    def class_info(cls):\n",
    "        print('나는 클래스 메서드입니다.')\n",
    "\n",
    "# 클래스 메서드: 객체를 만들지 않고 클래스가 직접 제공하는 method\n",
    "Circle.class_info()\n",
    "        \n",
    "# 지금 이 시점, __init__()이 동작됨 self는 객체 자신이므로 안 써도 됨.\n",
    "my_circle = Circle(4, 3.141592)\n",
    "\n",
    "print('원의 반지름은 %d이고 파이 값은 %f입니다.' % (my_circle.radius, my_circle.pi))\n",
    "\n",
    "print('반지름이 %d인 원의 넓이는 %f이고 둘레는 %f입니다.'%(my_circle.radius, my_circle.get_area(), my_circle.get_circumference()))"
   ]
  }
 ],
 "metadata": {
  "kernelspec": {
   "display_name": "Python 3",
   "language": "python",
   "name": "python3"
  },
  "language_info": {
   "codemirror_mode": {
    "name": "ipython",
    "version": 3
   },
   "file_extension": ".py",
   "mimetype": "text/x-python",
   "name": "python",
   "nbconvert_exporter": "python",
   "pygments_lexer": "ipython3",
   "version": "3.7.6"
  }
 },
 "nbformat": 4,
 "nbformat_minor": 4
}
