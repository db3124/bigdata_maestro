{
 "cells": [
  {
   "cell_type": "markdown",
   "metadata": {},
   "source": [
    "# 06-1"
   ]
  },
  {
   "cell_type": "code",
   "execution_count": 22,
   "metadata": {},
   "outputs": [
    {
     "data": {
      "text/plain": [
       "735"
      ]
     },
     "execution_count": 22,
     "metadata": {},
     "output_type": "execute_result"
    }
   ],
   "source": [
    "hap = 0\n",
    "\n",
    "for num in range(7, 100, 7):\n",
    "    hap += num\n",
    "    \n",
    "hap\n",
    "\n",
    "# 7 * (1+2+3+4+5+6+7+8+9+10+11+12+13+14)"
   ]
  },
  {
   "cell_type": "markdown",
   "metadata": {},
   "source": [
    "# 07-1"
   ]
  },
  {
   "cell_type": "code",
   "execution_count": 5,
   "metadata": {
    "scrolled": true
   },
   "outputs": [
    {
     "name": "stdout",
     "output_type": "stream",
     "text": [
      " 1번째 숫자를 입력하세요: 1\n",
      " 2번째 숫자를 입력하세요: 2\n",
      " 3번째 숫자를 입력하세요: 3\n",
      " 4번째 숫자를 입력하세요: 4\n",
      " 5번째 숫자를 입력하세요: 5\n",
      " 6번째 숫자를 입력하세요: 6\n",
      " 7번째 숫자를 입력하세요: 7\n",
      " 8번째 숫자를 입력하세요: 8\n",
      " 9번째 숫자를 입력하세요: 9\n",
      "10번째 숫자를 입력하세요: 10\n",
      "55\n"
     ]
    }
   ],
   "source": [
    "lst = [0] * 10\n",
    "\n",
    "hap = 0\n",
    "\n",
    "for i in range(len(lst)):\n",
    "    lst[i] = int(input('%2d번째 숫자를 입력하세요: ' % (i + 1)))\n",
    "    hap += lst[i]\n",
    "    \n",
    "print(hap)"
   ]
  },
  {
   "cell_type": "code",
   "execution_count": 9,
   "metadata": {},
   "outputs": [
    {
     "name": "stdout",
     "output_type": "stream",
     "text": [
      " 1번째 숫자를 입력하세요: 1\n",
      " 2번째 숫자를 입력하세요: 2\n",
      " 3번째 숫자를 입력하세요: 3\n",
      " 4번째 숫자를 입력하세요: 4\n",
      " 5번째 숫자를 입력하세요: 5\n",
      " 6번째 숫자를 입력하세요: 6\n",
      " 7번째 숫자를 입력하세요: 7\n",
      " 8번째 숫자를 입력하세요: 8\n",
      " 9번째 숫자를 입력하세요: 9\n",
      "10번째 숫자를 입력하세요: 10\n",
      "55\n"
     ]
    }
   ],
   "source": [
    "lst = [0] * 10\n",
    "\n",
    "hap, i = 0, 0\n",
    "\n",
    "while i < 10:\n",
    "    lst[i] = int(input('%2d번째 숫자를 입력하세요: ' % (i + 1)))\n",
    "    hap += lst[i]\n",
    "    i += 1\n",
    "    \n",
    "print(hap)"
   ]
  },
  {
   "cell_type": "code",
   "execution_count": 7,
   "metadata": {},
   "outputs": [
    {
     "name": "stdout",
     "output_type": "stream",
     "text": [
      "1번째 숫자: 1\n",
      "2번째 숫자: 2\n",
      "3번째 숫자: 3\n",
      "4번째 숫자: 4\n",
      "5번째 숫자: 5\n",
      "6번째 숫자: 6\n",
      "7번째 숫자: 7\n",
      "8번째 숫자: 8\n",
      "9번째 숫자: 9\n",
      "10번째 숫자: 10\n",
      "합계==> 55\n"
     ]
    }
   ],
   "source": [
    "# yours\n",
    "aa = []\n",
    "hap = 0\n",
    "for i in range(0,10):\n",
    "    aa.append(0)\n",
    "for i in range(0,10):\n",
    "    aa[i] = int(input(str(i+1)+'번째 숫자: '))\n",
    "\n",
    "hap = sum(aa[0:10])\n",
    "\n",
    "print('합계==> %d'%hap)"
   ]
  },
  {
   "cell_type": "markdown",
   "metadata": {},
   "source": [
    "# 07-2"
   ]
  },
  {
   "cell_type": "code",
   "execution_count": 18,
   "metadata": {},
   "outputs": [
    {
     "name": "stdout",
     "output_type": "stream",
     "text": [
      "bb[0]: 597 / bb[199]: 0\n"
     ]
    }
   ],
   "source": [
    "aa = []\n",
    "bb = []\n",
    "\n",
    "for i in range(200):\n",
    "    aa.append(i * 3)\n",
    "    \n",
    "for k in range(200):\n",
    "    bb.append(aa[199-k])\n",
    "    \n",
    "# print(aa, bb)\n",
    "print('bb[0]: %d / bb[199]: %d' % (bb[0], bb[199]))"
   ]
  },
  {
   "cell_type": "code",
   "execution_count": null,
   "metadata": {},
   "outputs": [],
   "source": []
  }
 ],
 "metadata": {
  "kernelspec": {
   "display_name": "Python 3",
   "language": "python",
   "name": "python3"
  },
  "language_info": {
   "codemirror_mode": {
    "name": "ipython",
    "version": 3
   },
   "file_extension": ".py",
   "mimetype": "text/x-python",
   "name": "python",
   "nbconvert_exporter": "python",
   "pygments_lexer": "ipython3",
   "version": "3.7.4"
  }
 },
 "nbformat": 4,
 "nbformat_minor": 2
}
