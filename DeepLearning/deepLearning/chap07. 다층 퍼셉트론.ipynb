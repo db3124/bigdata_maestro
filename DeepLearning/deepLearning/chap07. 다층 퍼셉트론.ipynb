{
 "cells": [
  {
   "cell_type": "markdown",
   "metadata": {},
   "source": [
    "# 다중 퍼셉트론의 설계 구현"
   ]
  },
  {
   "cell_type": "code",
   "execution_count": 2,
   "metadata": {},
   "outputs": [],
   "source": [
    "import numpy as np"
   ]
  },
  {
   "cell_type": "code",
   "execution_count": 3,
   "metadata": {},
   "outputs": [
    {
     "name": "stdout",
     "output_type": "stream",
     "text": [
      "n:  [ 8 12]\n"
     ]
    }
   ],
   "source": [
    "x = np.array([1, 2])\n",
    "w1 = np.arange(1,5).reshape(2, 2)\n",
    "b1 = np.array([1, 2])\n",
    "\n",
    "n = x.dot(w1) + b1\n",
    "# n1 = n[0]\n",
    "# n2 = n[1]\n",
    "print('n: ', n)"
   ]
  },
  {
   "cell_type": "code",
   "execution_count": 4,
   "metadata": {},
   "outputs": [
    {
     "data": {
      "text/plain": [
       "array([33])"
      ]
     },
     "execution_count": 4,
     "metadata": {},
     "output_type": "execute_result"
    }
   ],
   "source": [
    "w2 = np.array([1, 2])\n",
    "b2 = np.array([1])\n",
    "\n",
    "y_out = n.dot(w2) + b2 \n",
    "y_out"
   ]
  },
  {
   "cell_type": "markdown",
   "metadata": {},
   "source": [
    "# XOR 게이트 설계해보기"
   ]
  },
  {
   "cell_type": "code",
   "execution_count": 17,
   "metadata": {},
   "outputs": [],
   "source": [
    "import numpy as np"
   ]
  },
  {
   "cell_type": "code",
   "execution_count": 5,
   "metadata": {},
   "outputs": [],
   "source": [
    "# 해결해보기"
   ]
  },
  {
   "cell_type": "code",
   "execution_count": 10,
   "metadata": {},
   "outputs": [],
   "source": [
    "def AND(x1, x2):\n",
    "    x = np.array([x1, x2])\n",
    "    w = np.array([0.5, 0.5])\n",
    "    b = -0.7\n",
    "    \n",
    "    ws = np.sum(x * w) + b\n",
    "    \n",
    "    if ws <= 0:\n",
    "        return 0\n",
    "    else:\n",
    "        return 1"
   ]
  },
  {
   "cell_type": "code",
   "execution_count": 11,
   "metadata": {},
   "outputs": [],
   "source": [
    "def OR(x1, x2):\n",
    "    w1, w2, theta = 0.5, 0.5, 0.7\n",
    "    tmp = x1 * w1 + x2 * w2\n",
    "    \n",
    "    if x1 == 0 and x2 == 0:\n",
    "        return 0\n",
    "    else:\n",
    "        return 1 "
   ]
  },
  {
   "cell_type": "code",
   "execution_count": 12,
   "metadata": {},
   "outputs": [],
   "source": [
    "def NAND(x1, x2):\n",
    "    x = np.array([x1, x2])\n",
    "    w = np.array([-0.5, -0.5])\n",
    "    b = 0.7\n",
    "    \n",
    "    ws = np.sum(x * w) + b\n",
    "    \n",
    "    if ws <= 0:\n",
    "        return 0\n",
    "    else:\n",
    "        return 1"
   ]
  },
  {
   "cell_type": "code",
   "execution_count": 13,
   "metadata": {},
   "outputs": [],
   "source": [
    "# 이 코드는 다층 퍼셉트론이 아니라, 단층 퍼센트론을 연결해서 구현한 것에 불과\n",
    "def XOR(x1, x2):\n",
    "    return AND(NAND(x1, x2), OR(x1, x2))"
   ]
  },
  {
   "cell_type": "code",
   "execution_count": 15,
   "metadata": {},
   "outputs": [
    {
     "name": "stdout",
     "output_type": "stream",
     "text": [
      "XOR(0, 0) = 0\n",
      "XOR(0, 1) = 1\n",
      "XOR(1, 0) = 1\n",
      "XOR(1, 1) = 0\n"
     ]
    }
   ],
   "source": [
    "print('XOR(%d, %d) = %d' % (0, 0, XOR(0, 0)))\n",
    "print('XOR(%d, %d) = %d' % (0, 1, XOR(0, 1)))\n",
    "print('XOR(%d, %d) = %d' % (1, 0, XOR(1, 0)))\n",
    "print('XOR(%d, %d) = %d' % (1, 1, XOR(1, 1)))"
   ]
  },
  {
   "cell_type": "code",
   "execution_count": 16,
   "metadata": {},
   "outputs": [],
   "source": [
    "# 교재 코드"
   ]
  },
  {
   "cell_type": "code",
   "execution_count": 20,
   "metadata": {},
   "outputs": [
    {
     "name": "stdout",
     "output_type": "stream",
     "text": [
      "입력값: (0, 0) / 출력값: 0\n",
      "입력값: (1, 0) / 출력값: 1\n",
      "입력값: (0, 1) / 출력값: 1\n",
      "입력값: (1, 1) / 출력값: 0\n"
     ]
    }
   ],
   "source": [
    "w11 = np.array([-2,-2])\n",
    "w12 = np.array([2,2])\n",
    "w2 = np.array([1,1])\n",
    "b1 = 3 # NAND\n",
    "b2 = -1 # OR\n",
    "b3 = -1 # AND용 bias\n",
    "\n",
    "# Multi-Layer Perceptron\n",
    "def MLP(x,w,b):\n",
    "    y = np.sum(w*x)+b\n",
    "    \n",
    "    if y <= 0:\n",
    "        return 0\n",
    "    else:\n",
    "        return 1\n",
    "    \n",
    "def NAND(x1,x2):\n",
    "    return MLP(np.array([x1,x2]),w11,b1)\n",
    "\n",
    "def OR(x1,x2):\n",
    "    return MLP(np.array([x1,x2]),w12,b2)\n",
    "\n",
    "def AND(x1,x2):\n",
    "    return MLP(np.array([x1,x2]),w2,b3)\n",
    "\n",
    "def XOR(x1,x2):\n",
    "    return AND(NAND(x1,x2), OR(x1,x2))\n",
    "\n",
    "if __name__ == '__main__':\n",
    "    for x in [(0,0), (1,0), (0,1), (1,1)]:\n",
    "        y = XOR(x[0],x[1])\n",
    "        print('입력값: '+str(x)+' / 출력값: '+str(y))"
   ]
  },
  {
   "cell_type": "code",
   "execution_count": 21,
   "metadata": {},
   "outputs": [],
   "source": [
    "import numpy as np"
   ]
  },
  {
   "cell_type": "code",
   "execution_count": 25,
   "metadata": {},
   "outputs": [
    {
     "name": "stdout",
     "output_type": "stream",
     "text": [
      "입력 값: (0, 0) / 출력 값: 0\n",
      "입력 값: (0, 1) / 출력 값: 1\n",
      "입력 값: (1, 0) / 출력 값: 1\n",
      "입력 값: (1, 1) / 출력 값: 0\n"
     ]
    }
   ],
   "source": [
    "w11 = np.array([-2, -2])\n",
    "w12 = np.array([2, 2])\n",
    "w2 = np.array([1, 1])\n",
    "\n",
    "b1 = 3\n",
    "b2 = -1\n",
    "b3 = -1\n",
    "\n",
    "# 퍼셉트론 Multi-Layer Perceptron\n",
    "def MLP(x, w, b):\n",
    "    y = np.sum(w * x) + b\n",
    "    \n",
    "    if y <= 0:\n",
    "        return 0\n",
    "    else:\n",
    "        return 1\n",
    "\n",
    "# NAND 게이트\n",
    "def NAND(x1, x2):\n",
    "    return MLP(np.array([x1, x2]), w11, b1)\n",
    "\n",
    "# OR 게이트\n",
    "def OR(x1, x2):\n",
    "    return MLP(np.array([x1, x2]), w12, b2)\n",
    "\n",
    "# AND 게이트\n",
    "def AND(x1, x2):\n",
    "    return MLP(np.array([x1, x2]), w2, b3)\n",
    "\n",
    "# XOR 게이트\n",
    "def XOR(x1, x2):\n",
    "    return AND(NAND(x1, x2), OR(x1, x2))\n",
    "\n",
    "# x1, x2 값을 번갈아 대입하며 최종값 출력\n",
    "if __name__ == '__main__':\n",
    "    for x in [(0, 0), (0, 1), (1, 0), (1, 1)]:\n",
    "        y = XOR(x[0], x[1])\n",
    "        print('입력 값: ' + str(x) + ' / 출력 값: ' + str(y))\n",
    "        "
   ]
  },
  {
   "cell_type": "markdown",
   "metadata": {},
   "source": [
    "# (Real) XOR 게이트, 다층 퍼셉트론"
   ]
  },
  {
   "cell_type": "code",
   "execution_count": 26,
   "metadata": {},
   "outputs": [],
   "source": [
    "x = np.array([[0, 0], [0, 1], [1, 0], [1, 1]])\n",
    "\n",
    "# NAND, OR 게이트를 위한 w, b\n",
    "w1 = np.array([[-0.5, 0.5], [-0.5, 0.5]])\n",
    "b1 = np.array([0.7, -0.2])\n",
    "\n",
    "# AND 게이트를 위한 w, b\n",
    "w2 = np.array([0.5, 0.5])\n",
    "b2 = np.array([-0.7])"
   ]
  },
  {
   "cell_type": "code",
   "execution_count": 27,
   "metadata": {},
   "outputs": [],
   "source": [
    "def GATE(x, w, b):\n",
    "    ws = x.dot(w) + b\n",
    "    return ws > 0"
   ]
  },
  {
   "cell_type": "code",
   "execution_count": 28,
   "metadata": {},
   "outputs": [
    {
     "name": "stdout",
     "output_type": "stream",
     "text": [
      "x1: 0, x2: 0\n",
      "x1: 0, x2: 1\n",
      "x1: 1, x2: 0\n",
      "x1: 1, x2: 1\n"
     ]
    }
   ],
   "source": [
    "for i in range(len(x)):\n",
    "    print('x1: %d, x2: %d' % (x[i][0], x[i][1]))"
   ]
  },
  {
   "cell_type": "code",
   "execution_count": 31,
   "metadata": {},
   "outputs": [
    {
     "name": "stdout",
     "output_type": "stream",
     "text": [
      "x1: 0, x2: 0, NAND:  True, OR: False\n",
      "x1: 0, x2: 1, NAND:  True, OR:  True\n",
      "x1: 1, x2: 0, NAND:  True, OR:  True\n",
      "x1: 1, x2: 1, NAND: False, OR:  True\n"
     ]
    }
   ],
   "source": [
    "for i in range(len(x)):\n",
    "    tmp = GATE(x[i], w1, b1)\n",
    "    print('x1: %d, x2: %d, NAND: %5s, OR: %5s' % (x[i][0], x[i][1], tmp[0], tmp[1]))"
   ]
  },
  {
   "cell_type": "code",
   "execution_count": 32,
   "metadata": {},
   "outputs": [
    {
     "name": "stdout",
     "output_type": "stream",
     "text": [
      "x1: 0, x2: 0, NAND:  True, OR: False, AND: False\n",
      "x1: 0, x2: 1, NAND:  True, OR:  True, AND:  True\n",
      "x1: 1, x2: 0, NAND:  True, OR:  True, AND:  True\n",
      "x1: 1, x2: 1, NAND: False, OR:  True, AND: False\n"
     ]
    }
   ],
   "source": [
    "for i in range(len(x)):\n",
    "    tmp1 = GATE(x[i], w1, b1) # NAND, OR\n",
    "    tmp2 = GATE(tmp1, w2, b2)# XOR\n",
    "    \n",
    "    print('x1: %d, x2: %d, NAND: %5s, OR: %5s, AND: %5s' % (x[i][0], x[i][1], tmp1[0], tmp1[1], tmp2[0]))"
   ]
  },
  {
   "cell_type": "code",
   "execution_count": 34,
   "metadata": {},
   "outputs": [
    {
     "name": "stdout",
     "output_type": "stream",
     "text": [
      "x1: 0, x2: 0, XOR: [False]\n",
      "x1: 0, x2: 1, XOR: [ True]\n",
      "x1: 1, x2: 0, XOR: [ True]\n",
      "x1: 1, x2: 1, XOR: [False]\n"
     ]
    }
   ],
   "source": [
    "for i in range(len(x)):\n",
    "#     tmp = GATE(GATE(x[i], w1, b1), w2, b2)# NAND, OR, XOR 게이트를 한 번에 실행\n",
    "    \n",
    "    print('x1: %d, x2: %d, XOR: %5s' % (x[i][0], x[i][1], GATE(GATE(x[i], w1, b1), w2, b2)))"
   ]
  },
  {
   "cell_type": "markdown",
   "metadata": {},
   "source": [
    "# ※ 학습을 통해서 w, b가 구해진다. 학습을 하려면 오차함수가 있어야 한다.\n",
    "# ※ 바탕에선 이러한 작업이 이루어지고 있다는 것을 알아야 한다."
   ]
  },
  {
   "cell_type": "markdown",
   "metadata": {},
   "source": [
    "## 1st"
   ]
  },
  {
   "cell_type": "code",
   "execution_count": 66,
   "metadata": {},
   "outputs": [],
   "source": [
    "x = np.array([[0, 0], [0, 1], [1, 0], [1, 1]])\n",
    "w1 = np.array([-0.5, -0.5])\n",
    "w2 = np.array([0.5, 0.5])\n",
    "w3 = np.array([0.5, 0.5])\n",
    "b1 = np.array([0.7])\n",
    "b2 = np.array([-0.2])\n",
    "b3 = np.array([-0.7])"
   ]
  },
  {
   "cell_type": "code",
   "execution_count": 67,
   "metadata": {},
   "outputs": [],
   "source": [
    "def NAND(x, w, b):\n",
    "    tmp = x.dot(w1) + b1\n",
    "    return tmp > 0"
   ]
  },
  {
   "cell_type": "code",
   "execution_count": 68,
   "metadata": {},
   "outputs": [
    {
     "name": "stdout",
     "output_type": "stream",
     "text": [
      "x1: 0, x2: 0, NAND:  True\n",
      "x1: 0, x2: 1, NAND:  True\n",
      "x1: 1, x2: 0, NAND:  True\n",
      "x1: 1, x2: 1, NAND: False\n"
     ]
    }
   ],
   "source": [
    "for i in range(len(x)):\n",
    "    tmp = NAND(x[i], w, b)\n",
    "    print('x1: %d, x2: %d, NAND: %5s' % (x[i][0], x[i][1], tmp[0]))"
   ]
  },
  {
   "cell_type": "code",
   "execution_count": 69,
   "metadata": {},
   "outputs": [],
   "source": [
    "def OR(x, w, b):\n",
    "    tmp = x.dot(w2) + b2\n",
    "    return tmp > 0"
   ]
  },
  {
   "cell_type": "code",
   "execution_count": 70,
   "metadata": {},
   "outputs": [
    {
     "name": "stdout",
     "output_type": "stream",
     "text": [
      "x1: 0, x2: 0, NAND: False\n",
      "x1: 0, x2: 1, NAND:  True\n",
      "x1: 1, x2: 0, NAND:  True\n",
      "x1: 1, x2: 1, NAND:  True\n"
     ]
    }
   ],
   "source": [
    "for i in range(len(x)):\n",
    "    tmp = OR(x[i], w, b)\n",
    "    print('x1: %d, x2: %d, NAND: %5s' % (x[i][0], x[i][1], tmp[0]))"
   ]
  },
  {
   "cell_type": "markdown",
   "metadata": {},
   "source": [
    "## 2nd"
   ]
  },
  {
   "cell_type": "code",
   "execution_count": 75,
   "metadata": {},
   "outputs": [],
   "source": [
    "# NAND, OR 합치기\n",
    "def GATE(x, w, b):\n",
    "    tmp = x.dot(w) + b\n",
    "    return tmp > 0"
   ]
  },
  {
   "cell_type": "code",
   "execution_count": 76,
   "metadata": {},
   "outputs": [
    {
     "name": "stdout",
     "output_type": "stream",
     "text": [
      "x1: 0, x2: 0, NAND:  True\n",
      "x1: 0, x2: 1, NAND:  True\n",
      "x1: 1, x2: 0, NAND:  True\n",
      "x1: 1, x2: 1, NAND: False\n"
     ]
    }
   ],
   "source": [
    "for i in range(len(x)):\n",
    "    tmp = GATE(x[i], w1, b1)\n",
    "    print('x1: %d, x2: %d, NAND: %5s' % (x[i][0], x[i][1], tmp[0]))"
   ]
  },
  {
   "cell_type": "code",
   "execution_count": 77,
   "metadata": {},
   "outputs": [
    {
     "name": "stdout",
     "output_type": "stream",
     "text": [
      "x1: 0, x2: 0, OR: False\n",
      "x1: 0, x2: 1, OR:  True\n",
      "x1: 1, x2: 0, OR:  True\n",
      "x1: 1, x2: 1, OR:  True\n"
     ]
    }
   ],
   "source": [
    "for i in range(len(x)):\n",
    "    tmp = GATE(x[i], w2, b2)\n",
    "    print('x1: %d, x2: %d, OR: %5s' % (x[i][0], x[i][1], tmp[0]))"
   ]
  },
  {
   "cell_type": "code",
   "execution_count": 78,
   "metadata": {},
   "outputs": [
    {
     "name": "stdout",
     "output_type": "stream",
     "text": [
      "x1: 0, x2: 0, AND: False\n",
      "x1: 0, x2: 1, AND: False\n",
      "x1: 1, x2: 0, AND: False\n",
      "x1: 1, x2: 1, AND:  True\n"
     ]
    }
   ],
   "source": [
    "for i in range(len(x)):\n",
    "    tmp = GATE(x[i], w3, b3)\n",
    "    print('x1: %d, x2: %d, AND: %5s' % (x[i][0], x[i][1], tmp[0]))"
   ]
  },
  {
   "cell_type": "markdown",
   "metadata": {},
   "source": [
    "## 3rd"
   ]
  },
  {
   "cell_type": "code",
   "execution_count": 79,
   "metadata": {},
   "outputs": [],
   "source": [
    "x = np.array([[0, 0], [0, 1], [1, 0], [1, 1]])\n",
    "w1 = np.array([[-0.5, 0.5], [-0.5, 0.5]])\n",
    "w2 = np.array([0.5, 0.5])\n",
    "b1 = np.array([0.7, -0.2])\n",
    "b2 = np.array([-0.7])"
   ]
  },
  {
   "cell_type": "code",
   "execution_count": 80,
   "metadata": {},
   "outputs": [],
   "source": [
    "def GATE(x, w, b):\n",
    "    tmp = x.dot(w) + b\n",
    "    return tmp > 0"
   ]
  },
  {
   "cell_type": "code",
   "execution_count": 82,
   "metadata": {},
   "outputs": [
    {
     "name": "stdout",
     "output_type": "stream",
     "text": [
      "x1: 0, x2: 0, NAND:  True, OR: False\n",
      "x1: 0, x2: 1, NAND:  True, OR:  True\n",
      "x1: 1, x2: 0, NAND:  True, OR:  True\n",
      "x1: 1, x2: 1, NAND: False, OR:  True\n"
     ]
    }
   ],
   "source": [
    "for i in range(len(x)):\n",
    "    tmp = GATE(x[i], w1, b1)\n",
    "    print('x1: %d, x2: %d, NAND: %5s, OR: %5s' % (x[i][0], x[i][1], tmp[0], tmp[1]))"
   ]
  },
  {
   "cell_type": "code",
   "execution_count": 83,
   "metadata": {},
   "outputs": [
    {
     "name": "stdout",
     "output_type": "stream",
     "text": [
      "x1: 0, x2: 0, NAND:  True, OR: False, AND: False\n",
      "x1: 0, x2: 1, NAND:  True, OR:  True, AND:  True\n",
      "x1: 1, x2: 0, NAND:  True, OR:  True, AND:  True\n",
      "x1: 1, x2: 1, NAND: False, OR:  True, AND: False\n"
     ]
    }
   ],
   "source": [
    "for i in range(len(x)):\n",
    "    tmp1 = GATE(x[i], w1, b1)\n",
    "    tmp2 = GATE(tmp1, w2, b2)\n",
    "    print('x1: %d, x2: %d, NAND: %5s, OR: %5s, AND: %5s' % (x[i][0], x[i][1], tmp1[0], tmp1[1], tmp2[0]))"
   ]
  },
  {
   "cell_type": "markdown",
   "metadata": {},
   "source": [
    "## 4th"
   ]
  },
  {
   "cell_type": "code",
   "execution_count": 85,
   "metadata": {},
   "outputs": [
    {
     "name": "stdout",
     "output_type": "stream",
     "text": [
      "x1: 0, x2: 0, XOR: False\n",
      "x1: 0, x2: 1, XOR:  True\n",
      "x1: 1, x2: 0, XOR:  True\n",
      "x1: 1, x2: 1, XOR: False\n"
     ]
    }
   ],
   "source": [
    "for i in range(len(x)):\n",
    "    tmp = GATE(GATE(x[i], w1, b1), w2, b2)\n",
    "    print('x1: %d, x2: %d, XOR: %5s' % (x[i][0], x[i][1], tmp[0]))"
   ]
  }
 ],
 "metadata": {
  "kernelspec": {
   "display_name": "Python 3",
   "language": "python",
   "name": "python3"
  },
  "language_info": {
   "codemirror_mode": {
    "name": "ipython",
    "version": 3
   },
   "file_extension": ".py",
   "mimetype": "text/x-python",
   "name": "python",
   "nbconvert_exporter": "python",
   "pygments_lexer": "ipython3",
   "version": "3.7.6"
  }
 },
 "nbformat": 4,
 "nbformat_minor": 4
}
