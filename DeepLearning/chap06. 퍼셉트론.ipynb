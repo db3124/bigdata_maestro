{
 "cells": [
  {
   "cell_type": "markdown",
   "metadata": {},
   "source": [
    "# AND 게이트"
   ]
  },
  {
   "cell_type": "code",
   "execution_count": 1,
   "metadata": {},
   "outputs": [],
   "source": [
    "# 1layer 신경망\n",
    "# 입력층이면서 동시에 출력층인(은닉층은 없는) 신경망\n",
    "def AND(x1, x2):\n",
    "    w1, w2, theta = 0.5, 0.5, 0.7\n",
    "    tmp = x1 * w1 + x2 * w2\n",
    "    \n",
    "    if tmp <= theta:\n",
    "        return 0\n",
    "    elif tmp > theta:\n",
    "        return 1    "
   ]
  },
  {
   "cell_type": "code",
   "execution_count": 3,
   "metadata": {},
   "outputs": [
    {
     "name": "stdout",
     "output_type": "stream",
     "text": [
      "AND(0, 0) = 0\n",
      "AND(0, 1) = 0\n",
      "AND(1, 0) = 0\n",
      "AND(1, 1) = 1\n"
     ]
    }
   ],
   "source": [
    "print('AND(%d, %d) = %d' % (0, 0, AND(0, 0)))\n",
    "print('AND(%d, %d) = %d' % (0, 1, AND(0, 1)))\n",
    "print('AND(%d, %d) = %d' % (1, 0, AND(1, 0)))\n",
    "print('AND(%d, %d) = %d' % (1, 1, AND(1, 1)))"
   ]
  },
  {
   "cell_type": "code",
   "execution_count": 4,
   "metadata": {},
   "outputs": [],
   "source": [
    "import numpy as np"
   ]
  },
  {
   "cell_type": "code",
   "execution_count": 5,
   "metadata": {},
   "outputs": [
    {
     "name": "stdout",
     "output_type": "stream",
     "text": [
      "[0.  0.5]\n"
     ]
    }
   ],
   "source": [
    "# bias를 끄집어낸다.\n",
    "# b: bias(편향) = -theta(원래 theta의 부호반전)\n",
    "\n",
    "x = np.array([0, 1])\n",
    "w = np.array([0.5, 0.5])\n",
    "b = -0.7\n",
    "\n",
    "print(x * w)"
   ]
  },
  {
   "cell_type": "code",
   "execution_count": 7,
   "metadata": {},
   "outputs": [
    {
     "name": "stdout",
     "output_type": "stream",
     "text": [
      "ws: -0.19999999999999996\n",
      "False\n"
     ]
    }
   ],
   "source": [
    "# 가중합 구하기\n",
    "ws = np.sum(x * w) + b\n",
    "\n",
    "print('ws:', ws)\n",
    "print(ws > 0)"
   ]
  },
  {
   "cell_type": "code",
   "execution_count": 8,
   "metadata": {},
   "outputs": [],
   "source": [
    "def AND(x1, x2):\n",
    "    x = np.array([x1, x2])\n",
    "    w = np.array([0.5, 0.5])\n",
    "    b = -0.7\n",
    "    \n",
    "    ws = np.sum(x * w) + b\n",
    "    \n",
    "    if ws <= 0:\n",
    "        return 0\n",
    "    else:\n",
    "        return 1"
   ]
  },
  {
   "cell_type": "code",
   "execution_count": 9,
   "metadata": {},
   "outputs": [
    {
     "name": "stdout",
     "output_type": "stream",
     "text": [
      "AND(0, 0) = 0\n",
      "AND(0, 1) = 0\n",
      "AND(1, 0) = 0\n",
      "AND(1, 1) = 1\n"
     ]
    }
   ],
   "source": [
    "print('AND(%d, %d) = %d' % (0, 0, AND(0, 0)))\n",
    "print('AND(%d, %d) = %d' % (0, 1, AND(0, 1)))\n",
    "print('AND(%d, %d) = %d' % (1, 0, AND(1, 0)))\n",
    "print('AND(%d, %d) = %d' % (1, 1, AND(1, 1)))"
   ]
  },
  {
   "cell_type": "markdown",
   "metadata": {},
   "source": [
    "# OR 게이트"
   ]
  },
  {
   "cell_type": "markdown",
   "metadata": {},
   "source": [
    "## 해결하기!!!!"
   ]
  },
  {
   "cell_type": "code",
   "execution_count": 11,
   "metadata": {},
   "outputs": [],
   "source": [
    "# 1layer 신경망\n",
    "# 입력층이면서 동시에 출력층인(은닉층은 없는) 신경망\n",
    "def OR(x1, x2):\n",
    "    w1, w2, theta = 0.5, 0.5, 0.7\n",
    "    tmp = x1 * w1 + x2 * w2\n",
    "    \n",
    "    if x1 == 0 and x2 == 0:\n",
    "        return 0\n",
    "    else:\n",
    "        return 1    "
   ]
  },
  {
   "cell_type": "code",
   "execution_count": 12,
   "metadata": {},
   "outputs": [
    {
     "name": "stdout",
     "output_type": "stream",
     "text": [
      "OR(0, 0) = 0\n",
      "OR(0, 1) = 1\n",
      "OR(1, 0) = 1\n",
      "OR(1, 1) = 1\n"
     ]
    }
   ],
   "source": [
    "print('OR(%d, %d) = %d' % (0, 0, OR(0, 0)))\n",
    "print('OR(%d, %d) = %d' % (0, 1, OR(0, 1)))\n",
    "print('OR(%d, %d) = %d' % (1, 0, OR(1, 0)))\n",
    "print('OR(%d, %d) = %d' % (1, 1, OR(1, 1)))"
   ]
  },
  {
   "cell_type": "code",
   "execution_count": 15,
   "metadata": {},
   "outputs": [],
   "source": [
    "def OR(x1, x2):\n",
    "    w1, w2, theta = 0.5, 0.5, 0.7\n",
    "    tmp = x1 * w1 + x2 * w2\n",
    "    b = -0.2\n",
    "    \n",
    "    ws = np.sum(x * w) + b\n",
    "    \n",
    "    if ws <= 0:\n",
    "        return 0\n",
    "    else:\n",
    "        return 1"
   ]
  },
  {
   "cell_type": "code",
   "execution_count": 16,
   "metadata": {
    "scrolled": true
   },
   "outputs": [
    {
     "name": "stdout",
     "output_type": "stream",
     "text": [
      "OR(0, 0) = 1\n",
      "OR(0, 1) = 1\n",
      "OR(1, 0) = 1\n",
      "OR(1, 1) = 1\n"
     ]
    }
   ],
   "source": [
    "print('OR(%d, %d) = %d' % (0, 0, OR(0, 0)))\n",
    "print('OR(%d, %d) = %d' % (0, 1, OR(0, 1)))\n",
    "print('OR(%d, %d) = %d' % (1, 0, OR(1, 0)))\n",
    "print('OR(%d, %d) = %d' % (1, 1, OR(1, 1)))"
   ]
  },
  {
   "cell_type": "markdown",
   "metadata": {},
   "source": [
    "# NAND 게이트"
   ]
  },
  {
   "cell_type": "code",
   "execution_count": 19,
   "metadata": {},
   "outputs": [],
   "source": [
    "def NAND(x1, x2):\n",
    "    x = np.array([x1, x2])\n",
    "    w = np.array([-0.5, -0.5])\n",
    "    b = 0.7\n",
    "    \n",
    "    ws = np.sum(x * w) + b\n",
    "    \n",
    "    if ws <= 0:\n",
    "        return 0\n",
    "    else:\n",
    "        return 1"
   ]
  },
  {
   "cell_type": "code",
   "execution_count": 20,
   "metadata": {},
   "outputs": [
    {
     "name": "stdout",
     "output_type": "stream",
     "text": [
      "NAND(0, 0) = 1\n",
      "NAND(0, 1) = 1\n",
      "NAND(1, 0) = 1\n",
      "NAND(1, 1) = 0\n"
     ]
    }
   ],
   "source": [
    "print('NAND(%d, %d) = %d' % (0, 0, NAND(0, 0)))\n",
    "print('NAND(%d, %d) = %d' % (0, 1, NAND(0, 1)))\n",
    "print('NAND(%d, %d) = %d' % (1, 0, NAND(1, 0)))\n",
    "print('NAND(%d, %d) = %d' % (1, 1, NAND(1, 1)))"
   ]
  },
  {
   "cell_type": "markdown",
   "metadata": {},
   "source": [
    "# 다중 퍼셉트론의 설계 구현"
   ]
  },
  {
   "cell_type": "code",
   "execution_count": 40,
   "metadata": {},
   "outputs": [
    {
     "name": "stdout",
     "output_type": "stream",
     "text": [
      "n:  [ 8 12]\n"
     ]
    }
   ],
   "source": [
    "x = np.array([1, 2])\n",
    "w1 = np.arange(1,5).reshape(2, 2)\n",
    "b1 = np.array([1, 2])\n",
    "\n",
    "n = x.dot(w1) + b1\n",
    "# n1 = n[0]\n",
    "# n2 = n[1]\n",
    "print('n: ', n)"
   ]
  },
  {
   "cell_type": "code",
   "execution_count": 41,
   "metadata": {},
   "outputs": [
    {
     "data": {
      "text/plain": [
       "array([33])"
      ]
     },
     "execution_count": 41,
     "metadata": {},
     "output_type": "execute_result"
    }
   ],
   "source": [
    "w2 = np.array([1, 2])\n",
    "b2 = np.array([1])\n",
    "\n",
    "y_out = n.dot(w2) + b2 \n",
    "y_out"
   ]
  },
  {
   "cell_type": "markdown",
   "metadata": {},
   "source": [
    "# XOR 게이트 설계해보기"
   ]
  },
  {
   "cell_type": "code",
   "execution_count": null,
   "metadata": {},
   "outputs": [],
   "source": [
    "# 엄....................."
   ]
  }
 ],
 "metadata": {
  "kernelspec": {
   "display_name": "Python 3",
   "language": "python",
   "name": "python3"
  },
  "language_info": {
   "codemirror_mode": {
    "name": "ipython",
    "version": 3
   },
   "file_extension": ".py",
   "mimetype": "text/x-python",
   "name": "python",
   "nbconvert_exporter": "python",
   "pygments_lexer": "ipython3",
   "version": "3.7.6"
  }
 },
 "nbformat": 4,
 "nbformat_minor": 4
}
