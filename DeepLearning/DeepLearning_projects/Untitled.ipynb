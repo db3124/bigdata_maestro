{
 "cells": [
  {
   "cell_type": "markdown",
   "metadata": {},
   "source": [
    "# 1. 나의 첫 딥러닝"
   ]
  },
  {
   "cell_type": "markdown",
   "metadata": {},
   "source": [
    "## 4. 폐암 수술 환자의 생존율 예측하기"
   ]
  },
  {
   "cell_type": "code",
   "execution_count": 3,
   "metadata": {},
   "outputs": [],
   "source": [
    "from tensorflow.keras.models import Sequential\n",
    "from tensorflow.keras.layers import Dense\n",
    "\n",
    "import tensorflow as tf\n",
    "import pandas as pd\n",
    "import numpy as np"
   ]
  },
  {
   "cell_type": "code",
   "execution_count": 4,
   "metadata": {},
   "outputs": [],
   "source": [
    "# 일정한 출력 결과를 뽑기 위한 설정\n",
    "np.random.seed(3)\n",
    "tf.random.set_seed(3)"
   ]
  },
  {
   "cell_type": "code",
   "execution_count": 6,
   "metadata": {},
   "outputs": [],
   "source": [
    "# 수술 환자 데이터 불러오기\n",
    "Data_set = np.loadtxt(\"./dataset/ThoraricSurgery.csv\", delimiter = ',') "
   ]
  },
  {
   "cell_type": "code",
   "execution_count": 9,
   "metadata": {},
   "outputs": [],
   "source": [
    "# 환자의 기록과 수술 결과를 X와 Y로 구분하여 저장\n",
    "X = Data_set[:, 0:17]\n",
    "Y = Data_set[:, 17]"
   ]
  },
  {
   "cell_type": "code",
   "execution_count": 10,
   "metadata": {},
   "outputs": [],
   "source": [
    "# 딥러닝 구조 결졍\n",
    "model = Sequential()\n",
    "model.add(Dense(30, input_dim = 17, activation = 'relu'))\n",
    "model.add(Dense(1, activation = 'sigmoid'))"
   ]
  },
  {
   "cell_type": "code",
   "execution_count": 11,
   "metadata": {},
   "outputs": [],
   "source": [
    "model.compile(loss = 'binary_crossentropy', optimizer = 'adam', metrics = ['accuracy'])"
   ]
  },
  {
   "cell_type": "code",
   "execution_count": 12,
   "metadata": {},
   "outputs": [
    {
     "name": "stdout",
     "output_type": "stream",
     "text": [
      "Train on 470 samples\n",
      "Epoch 1/100\n",
      "470/470 [==============================] - 0s 945us/sample - loss: 0.6902 - accuracy: 0.8106\n",
      "Epoch 2/100\n",
      "470/470 [==============================] - 0s 93us/sample - loss: 0.4568 - accuracy: 0.8511\n",
      "Epoch 3/100\n",
      "470/470 [==============================] - 0s 100us/sample - loss: 0.4714 - accuracy: 0.8447\n",
      "Epoch 4/100\n",
      "470/470 [==============================] - 0s 102us/sample - loss: 0.4609 - accuracy: 0.8447\n",
      "Epoch 5/100\n",
      "470/470 [==============================] - 0s 102us/sample - loss: 0.4535 - accuracy: 0.8511\n",
      "Epoch 6/100\n",
      "470/470 [==============================] - 0s 134us/sample - loss: 0.4576 - accuracy: 0.8532\n",
      "Epoch 7/100\n",
      "470/470 [==============================] - 0s 130us/sample - loss: 0.4410 - accuracy: 0.8511\n",
      "Epoch 8/100\n",
      "470/470 [==============================] - 0s 127us/sample - loss: 0.4306 - accuracy: 0.8511\n",
      "Epoch 9/100\n",
      "470/470 [==============================] - 0s 106us/sample - loss: 0.4469 - accuracy: 0.8511\n",
      "Epoch 10/100\n",
      "470/470 [==============================] - 0s 104us/sample - loss: 0.4728 - accuracy: 0.8511\n",
      "Epoch 11/100\n",
      "470/470 [==============================] - 0s 102us/sample - loss: 0.4635 - accuracy: 0.8447\n",
      "Epoch 12/100\n",
      "470/470 [==============================] - 0s 104us/sample - loss: 0.4244 - accuracy: 0.8489\n",
      "Epoch 13/100\n",
      "470/470 [==============================] - 0s 108us/sample - loss: 0.4443 - accuracy: 0.8511\n",
      "Epoch 14/100\n",
      "470/470 [==============================] - 0s 106us/sample - loss: 0.4715 - accuracy: 0.8319\n",
      "Epoch 15/100\n",
      "470/470 [==============================] - 0s 104us/sample - loss: 0.4771 - accuracy: 0.8383\n",
      "Epoch 16/100\n",
      "470/470 [==============================] - 0s 108us/sample - loss: 0.4497 - accuracy: 0.8532\n",
      "Epoch 17/100\n",
      "470/470 [==============================] - 0s 98us/sample - loss: 0.4236 - accuracy: 0.8511\n",
      "Epoch 18/100\n",
      "470/470 [==============================] - 0s 95us/sample - loss: 0.4229 - accuracy: 0.8468\n",
      "Epoch 19/100\n",
      "470/470 [==============================] - 0s 98us/sample - loss: 0.4997 - accuracy: 0.8191\n",
      "Epoch 20/100\n",
      "470/470 [==============================] - 0s 102us/sample - loss: 0.4174 - accuracy: 0.8511\n",
      "Epoch 21/100\n",
      "470/470 [==============================] - 0s 102us/sample - loss: 0.4461 - accuracy: 0.8532\n",
      "Epoch 22/100\n",
      "470/470 [==============================] - 0s 119us/sample - loss: 0.4445 - accuracy: 0.8426\n",
      "Epoch 23/100\n",
      "470/470 [==============================] - 0s 110us/sample - loss: 0.4229 - accuracy: 0.8489\n",
      "Epoch 24/100\n",
      "470/470 [==============================] - 0s 108us/sample - loss: 0.4149 - accuracy: 0.8511\n",
      "Epoch 25/100\n",
      "470/470 [==============================] - 0s 108us/sample - loss: 0.4371 - accuracy: 0.8511\n",
      "Epoch 26/100\n",
      "470/470 [==============================] - 0s 110us/sample - loss: 0.4285 - accuracy: 0.8511\n",
      "Epoch 27/100\n",
      "470/470 [==============================] - 0s 109us/sample - loss: 0.4238 - accuracy: 0.8532\n",
      "Epoch 28/100\n",
      "470/470 [==============================] - 0s 108us/sample - loss: 0.4098 - accuracy: 0.8532\n",
      "Epoch 29/100\n",
      "470/470 [==============================] - 0s 106us/sample - loss: 0.4106 - accuracy: 0.8532\n",
      "Epoch 30/100\n",
      "470/470 [==============================] - 0s 106us/sample - loss: 0.4068 - accuracy: 0.8489\n",
      "Epoch 31/100\n",
      "470/470 [==============================] - 0s 106us/sample - loss: 0.4238 - accuracy: 0.8447\n",
      "Epoch 32/100\n",
      "470/470 [==============================] - 0s 125us/sample - loss: 0.4085 - accuracy: 0.8532\n",
      "Epoch 33/100\n",
      "470/470 [==============================] - 0s 108us/sample - loss: 0.4073 - accuracy: 0.8511\n",
      "Epoch 34/100\n",
      "470/470 [==============================] - 0s 121us/sample - loss: 0.4291 - accuracy: 0.8426\n",
      "Epoch 35/100\n",
      "470/470 [==============================] - 0s 134us/sample - loss: 0.4249 - accuracy: 0.8532\n",
      "Epoch 36/100\n",
      "470/470 [==============================] - 0s 144us/sample - loss: 0.4544 - accuracy: 0.8468\n",
      "Epoch 37/100\n",
      "470/470 [==============================] - 0s 129us/sample - loss: 0.5080 - accuracy: 0.8319\n",
      "Epoch 38/100\n",
      "470/470 [==============================] - 0s 151us/sample - loss: 0.4199 - accuracy: 0.8553\n",
      "Epoch 39/100\n",
      "470/470 [==============================] - 0s 127us/sample - loss: 0.4501 - accuracy: 0.8511\n",
      "Epoch 40/100\n",
      "470/470 [==============================] - 0s 98us/sample - loss: 0.4215 - accuracy: 0.8553\n",
      "Epoch 41/100\n",
      "470/470 [==============================] - 0s 106us/sample - loss: 0.4334 - accuracy: 0.8532\n",
      "Epoch 42/100\n",
      "470/470 [==============================] - 0s 129us/sample - loss: 0.4312 - accuracy: 0.8426\n",
      "Epoch 43/100\n",
      "470/470 [==============================] - 0s 255us/sample - loss: 0.4203 - accuracy: 0.8447\n",
      "Epoch 44/100\n",
      "470/470 [==============================] - 0s 229us/sample - loss: 0.4127 - accuracy: 0.8553\n",
      "Epoch 45/100\n",
      "470/470 [==============================] - 0s 282us/sample - loss: 0.4014 - accuracy: 0.8532\n",
      "Epoch 46/100\n",
      "470/470 [==============================] - 0s 178us/sample - loss: 0.3975 - accuracy: 0.8574\n",
      "Epoch 47/100\n",
      "470/470 [==============================] - 0s 138us/sample - loss: 0.3931 - accuracy: 0.8532\n",
      "Epoch 48/100\n",
      "470/470 [==============================] - 0s 138us/sample - loss: 0.3989 - accuracy: 0.8532\n",
      "Epoch 49/100\n",
      "470/470 [==============================] - 0s 110us/sample - loss: 0.4041 - accuracy: 0.8447\n",
      "Epoch 50/100\n",
      "470/470 [==============================] - 0s 95us/sample - loss: 0.4228 - accuracy: 0.8447\n",
      "Epoch 51/100\n",
      "470/470 [==============================] - 0s 85us/sample - loss: 0.4085 - accuracy: 0.8553\n",
      "Epoch 52/100\n",
      "470/470 [==============================] - 0s 96us/sample - loss: 0.3976 - accuracy: 0.8532\n",
      "Epoch 53/100\n",
      "470/470 [==============================] - 0s 102us/sample - loss: 0.4090 - accuracy: 0.8553\n",
      "Epoch 54/100\n",
      "470/470 [==============================] - 0s 100us/sample - loss: 0.4367 - accuracy: 0.8489\n",
      "Epoch 55/100\n",
      "470/470 [==============================] - 0s 93us/sample - loss: 0.4172 - accuracy: 0.8574\n",
      "Epoch 56/100\n",
      "470/470 [==============================] - 0s 93us/sample - loss: 0.4055 - accuracy: 0.8574\n",
      "Epoch 57/100\n",
      "470/470 [==============================] - 0s 98us/sample - loss: 0.4138 - accuracy: 0.8511\n",
      "Epoch 58/100\n",
      "470/470 [==============================] - 0s 87us/sample - loss: 0.4301 - accuracy: 0.8511\n",
      "Epoch 59/100\n",
      "470/470 [==============================] - 0s 98us/sample - loss: 0.4176 - accuracy: 0.8489\n",
      "Epoch 60/100\n",
      "470/470 [==============================] - 0s 106us/sample - loss: 0.4210 - accuracy: 0.8447\n",
      "Epoch 61/100\n",
      "470/470 [==============================] - 0s 92us/sample - loss: 0.3977 - accuracy: 0.8532\n",
      "Epoch 62/100\n",
      "470/470 [==============================] - 0s 93us/sample - loss: 0.3898 - accuracy: 0.8532\n",
      "Epoch 63/100\n",
      "470/470 [==============================] - 0s 96us/sample - loss: 0.4017 - accuracy: 0.8511\n",
      "Epoch 64/100\n",
      "470/470 [==============================] - 0s 93us/sample - loss: 0.4099 - accuracy: 0.8511\n",
      "Epoch 65/100\n",
      "470/470 [==============================] - 0s 108us/sample - loss: 0.4029 - accuracy: 0.8511\n",
      "Epoch 66/100\n",
      "470/470 [==============================] - 0s 106us/sample - loss: 0.3930 - accuracy: 0.8553\n",
      "Epoch 67/100\n",
      "470/470 [==============================] - 0s 102us/sample - loss: 0.4020 - accuracy: 0.8532\n",
      "Epoch 68/100\n",
      "470/470 [==============================] - 0s 100us/sample - loss: 0.4005 - accuracy: 0.8447\n",
      "Epoch 69/100\n",
      "470/470 [==============================] - 0s 87us/sample - loss: 0.4109 - accuracy: 0.8489\n",
      "Epoch 70/100\n",
      "470/470 [==============================] - 0s 104us/sample - loss: 0.3946 - accuracy: 0.8532\n",
      "Epoch 71/100\n",
      "470/470 [==============================] - 0s 95us/sample - loss: 0.4057 - accuracy: 0.8553\n",
      "Epoch 72/100\n",
      "470/470 [==============================] - 0s 98us/sample - loss: 0.4299 - accuracy: 0.8404\n",
      "Epoch 73/100\n",
      "470/470 [==============================] - 0s 98us/sample - loss: 0.3950 - accuracy: 0.8553\n",
      "Epoch 74/100\n",
      "470/470 [==============================] - 0s 91us/sample - loss: 0.3994 - accuracy: 0.8574\n",
      "Epoch 75/100\n",
      "470/470 [==============================] - 0s 93us/sample - loss: 0.3996 - accuracy: 0.8553\n",
      "Epoch 76/100\n",
      "470/470 [==============================] - 0s 106us/sample - loss: 0.3951 - accuracy: 0.8532\n",
      "Epoch 77/100\n",
      "470/470 [==============================] - 0s 100us/sample - loss: 0.3807 - accuracy: 0.8596\n",
      "Epoch 78/100\n"
     ]
    },
    {
     "name": "stdout",
     "output_type": "stream",
     "text": [
      "470/470 [==============================] - 0s 91us/sample - loss: 0.4029 - accuracy: 0.8511\n",
      "Epoch 79/100\n",
      "470/470 [==============================] - 0s 87us/sample - loss: 0.4004 - accuracy: 0.8426\n",
      "Epoch 80/100\n",
      "470/470 [==============================] - 0s 93us/sample - loss: 0.4070 - accuracy: 0.8468\n",
      "Epoch 81/100\n",
      "470/470 [==============================] - 0s 93us/sample - loss: 0.3829 - accuracy: 0.8596\n",
      "Epoch 82/100\n",
      "470/470 [==============================] - 0s 93us/sample - loss: 0.3990 - accuracy: 0.8489\n",
      "Epoch 83/100\n",
      "470/470 [==============================] - 0s 89us/sample - loss: 0.4090 - accuracy: 0.8532\n",
      "Epoch 84/100\n",
      "470/470 [==============================] - 0s 91us/sample - loss: 0.4089 - accuracy: 0.8362\n",
      "Epoch 85/100\n",
      "470/470 [==============================] - 0s 91us/sample - loss: 0.4268 - accuracy: 0.8404\n",
      "Epoch 86/100\n",
      "470/470 [==============================] - 0s 87us/sample - loss: 0.3952 - accuracy: 0.8511\n",
      "Epoch 87/100\n",
      "470/470 [==============================] - 0s 87us/sample - loss: 0.3920 - accuracy: 0.8532\n",
      "Epoch 88/100\n",
      "470/470 [==============================] - 0s 95us/sample - loss: 0.3843 - accuracy: 0.8532\n",
      "Epoch 89/100\n",
      "470/470 [==============================] - 0s 98us/sample - loss: 0.3929 - accuracy: 0.8574\n",
      "Epoch 90/100\n",
      "470/470 [==============================] - 0s 89us/sample - loss: 0.3852 - accuracy: 0.8553\n",
      "Epoch 91/100\n",
      "470/470 [==============================] - 0s 93us/sample - loss: 0.3814 - accuracy: 0.8553\n",
      "Epoch 92/100\n",
      "470/470 [==============================] - 0s 134us/sample - loss: 0.3778 - accuracy: 0.8468\n",
      "Epoch 93/100\n",
      "470/470 [==============================] - 0s 168us/sample - loss: 0.4667 - accuracy: 0.8426\n",
      "Epoch 94/100\n",
      "470/470 [==============================] - 0s 100us/sample - loss: 0.4076 - accuracy: 0.8447\n",
      "Epoch 95/100\n",
      "470/470 [==============================] - 0s 83us/sample - loss: 0.3997 - accuracy: 0.8574\n",
      "Epoch 96/100\n",
      "470/470 [==============================] - 0s 91us/sample - loss: 0.3968 - accuracy: 0.8426\n",
      "Epoch 97/100\n",
      "470/470 [==============================] - 0s 91us/sample - loss: 0.3805 - accuracy: 0.8617\n",
      "Epoch 98/100\n",
      "470/470 [==============================] - 0s 93us/sample - loss: 0.3839 - accuracy: 0.8489\n",
      "Epoch 99/100\n",
      "470/470 [==============================] - 0s 91us/sample - loss: 0.3915 - accuracy: 0.8617\n",
      "Epoch 100/100\n",
      "470/470 [==============================] - 0s 155us/sample - loss: 0.3891 - accuracy: 0.8553\n"
     ]
    },
    {
     "data": {
      "text/plain": [
       "<tensorflow.python.keras.callbacks.History at 0x20a700f2f48>"
      ]
     },
     "execution_count": 12,
     "metadata": {},
     "output_type": "execute_result"
    }
   ],
   "source": [
    "model.fit(X, Y, epochs = 100, batch_size = 10)"
   ]
  },
  {
   "cell_type": "markdown",
   "metadata": {},
   "source": [
    "# 2장 딥러닝을 위한 기초 수학"
   ]
  },
  {
   "cell_type": "markdown",
   "metadata": {},
   "source": [
    "## 1. 일차 함수, 기울기와 y 절편"
   ]
  },
  {
   "cell_type": "code",
   "execution_count": 13,
   "metadata": {},
   "outputs": [],
   "source": [
    "import numpy as np\n",
    "import matplotlib.pyplot as plt"
   ]
  },
  {
   "cell_type": "code",
   "execution_count": 28,
   "metadata": {},
   "outputs": [
    {
     "data": {
      "image/png": "[encoded data removed]",
      "text/plain": [
       "<Figure size 432x288 with 1 Axes>"
      ]
     },
     "metadata": {
      "needs_background": "light"
     },
     "output_type": "display_data"
    }
   ],
   "source": [
    "def func1(x, y):\n",
    "    a, b = 2, 3\n",
    "    y = a * x + b\n",
    "    \n",
    "    return y\n",
    "\n",
    "x = np.arange(-5, 5, 0.5)\n",
    "y = func1(x, y)\n",
    "\n",
    "plt.plot(x, y)\n",
    "plt.axhline(y = 0, color = 'k', linestyle = ':', linewidth = 1)\n",
    "plt.axvline(x = 0, color = 'k', linestyle = ':', linewidth = 1)\n",
    "plt.show()"
   ]
  },
  {
   "cell_type": "markdown",
   "metadata": {},
   "source": [
    "## 2. 이차 함수와 최솟값"
   ]
  },
  {
   "cell_type": "code",
   "execution_count": 31,
   "metadata": {},
   "outputs": [
    {
     "data": {
      "image/png": "[encoded data removed]",
      "text/plain": [
       "<Figure size 432x288 with 1 Axes>"
      ]
     },
     "metadata": {
      "needs_background": "light"
     },
     "output_type": "display_data"
    }
   ],
   "source": [
    "def func2(x, y):\n",
    "    a = 2\n",
    "    y = a * x ** 2\n",
    "    \n",
    "    return y\n",
    "\n",
    "x = np.arange(-5, 5.1, 0.5)\n",
    "y = func2(x, y)\n",
    "\n",
    "plt.plot(x, y)\n",
    "plt.axhline(y = 0, color = 'k', linestyle = ':', linewidth = 1)\n",
    "plt.axvline(x = 0, color = 'k', linestyle = ':', linewidth = 1)\n",
    "plt.show()"
   ]
  },
  {
   "cell_type": "code",
   "execution_count": 44,
   "metadata": {},
   "outputs": [
    {
     "ename": "AttributeError",
     "evalue": "module 'matplotlib.pyplot' has no attribute 'ylime'",
     "output_type": "error",
     "traceback": [
      "\u001b[1;31m---------------------------------------------------------------------------\u001b[0m",
      "\u001b[1;31mAttributeError\u001b[0m                            Traceback (most recent call last)",
      "\u001b[1;32m<ipython-input-44-89ba9eba9b07>\u001b[0m in \u001b[0;36m<module>\u001b[1;34m\u001b[0m\n\u001b[0;32m     13\u001b[0m \u001b[1;33m\u001b[0m\u001b[0m\n\u001b[0;32m     14\u001b[0m \u001b[0mplt\u001b[0m\u001b[1;33m.\u001b[0m\u001b[0mxlim\u001b[0m\u001b[1;33m(\u001b[0m\u001b[1;36m0\u001b[0m\u001b[1;33m,\u001b[0m \u001b[1;36m3\u001b[0m\u001b[1;33m)\u001b[0m\u001b[1;33m\u001b[0m\u001b[1;33m\u001b[0m\u001b[0m\n\u001b[1;32m---> 15\u001b[1;33m \u001b[0mplt\u001b[0m\u001b[1;33m.\u001b[0m\u001b[0mylime\u001b[0m\u001b[1;33m(\u001b[0m\u001b[1;36m0\u001b[0m\u001b[1;33m,\u001b[0m \u001b[1;36m10\u001b[0m\u001b[1;33m)\u001b[0m\u001b[1;33m\u001b[0m\u001b[1;33m\u001b[0m\u001b[0m\n\u001b[0m\u001b[0;32m     16\u001b[0m \u001b[0mplt\u001b[0m\u001b[1;33m.\u001b[0m\u001b[0mshow\u001b[0m\u001b[1;33m(\u001b[0m\u001b[1;33m)\u001b[0m\u001b[1;33m\u001b[0m\u001b[1;33m\u001b[0m\u001b[0m\n",
      "\u001b[1;31mAttributeError\u001b[0m: module 'matplotlib.pyplot' has no attribute 'ylime'"
     ]
    },
    {
     "data": {
      "image/png": "[encoded data removed]",
      "text/plain": [
       "<Figure size 432x288 with 1 Axes>"
      ]
     },
     "metadata": {
      "needs_background": "light"
     },
     "output_type": "display_data"
    }
   ],
   "source": [
    "def func3(x, y):\n",
    "    a, p, q = 2, 2, 3\n",
    "    y = a * (x - p) ** 2 + q\n",
    "    \n",
    "    return y\n",
    "\n",
    "x = np.arange(-1, 5, 0.5)\n",
    "y = func3(x, y)\n",
    "\n",
    "plt.plot(x, y)\n",
    "plt.axhline(y = 3, color = 'k', linestyle = ':', linewidth = 1)\n",
    "plt.axvline(x = 2, color = 'k', linestyle = ':', linewidth = 1)\n",
    "\n",
    "plt.xlim(0, 3)\n",
    "plt.ylime(0, 10)\n",
    "plt.show()"
   ]
  },
  {
   "cell_type": "markdown",
   "metadata": {},
   "source": [
    "## 3. 미분, 순간 변화율과 기울기"
   ]
  },
  {
   "cell_type": "code",
   "execution_count": null,
   "metadata": {},
   "outputs": [],
   "source": [
    " "
   ]
  }
 ],
 "metadata": {
  "kernelspec": {
   "display_name": "Python 3",
   "language": "python",
   "name": "python3"
  },
  "language_info": {
   "codemirror_mode": {
    "name": "ipython",
    "version": 3
   },
   "file_extension": ".py",
   "mimetype": "text/x-python",
   "name": "python",
   "nbconvert_exporter": "python",
   "pygments_lexer": "ipython3",
   "version": "3.7.4"
  }
 },
 "nbformat": 4,
 "nbformat_minor": 2
}
